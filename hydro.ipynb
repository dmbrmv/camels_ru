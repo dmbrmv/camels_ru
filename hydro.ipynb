{
 "cells": [
  {
   "cell_type": "code",
   "execution_count": 1,
   "metadata": {},
   "outputs": [],
   "source": [
    "import pandas as pd\n",
    "import numpy as np\n",
    "import math\n",
    "import glob\n",
    "import datetime"
   ]
  },
  {
   "cell_type": "code",
   "execution_count": 2,
   "metadata": {},
   "outputs": [],
   "source": [
    "\"\"\"\n",
    "Подготовка списка датафреймов по соответствующим постам\n",
    "И списка ID выбранных постов\n",
    "\n",
    "\"\"\"\n",
    "\n",
    "path = '/mnt/SSD/education/aspirantura/CAMELS_ru/files/hydrology/2020-09-22_15-39'\n",
    "all_files = glob.glob(path + '/*_Q_Day.Cmd.txt')\n"
   ]
  },
  {
   "cell_type": "code",
   "execution_count": null,
   "metadata": {},
   "outputs": [],
   "source": [
    "\"\"\"\n",
    "Store Lat, Lon values as tuple with same\n",
    "position as index of station\n",
    "            \n",
    "\"\"\"\n",
    "\n",
    "GRDC_Stations = pd.read_excel(path + '/GRDC_Stations.xlsx')\n",
    "Valid_lat_lon = list()\n",
    "for j in range(len(Valid_WS)):\n",
    "    for i in range(len(temporary)):    \n",
    "        if Valid_WS.ID.loc[j] == temporary.grdc_no.loc[i]:\n",
    "            Valid_lat_lon.append((temporary.lat.loc[i], temporary.long.loc[i]))"
   ]
  },
  {
   "cell_type": "code",
   "execution_count": 3,
   "metadata": {},
   "outputs": [
    {
     "name": "stdout",
     "output_type": "stream",
     "text": [
      "количество постов с убранными пустышками 211, всего постов с суточными данными 1491\n"
     ]
    }
   ],
   "source": [
    "list_of_gauges = list()\n",
    "list_of_station_IDS = [i[74:81] for i in all_files] # лист всех ID из представленных постов\n",
    "valid_IDS = list()\n",
    "for i, gauge in enumerate(all_files):\n",
    "    \n",
    "    \"\"\"\n",
    "    skip instance if it's empty\n",
    "    \n",
    "    \"\"\"\n",
    "    test = pd.read_csv(gauge, skiprows = 36, delimiter = ';', skipinitialspace = True)\n",
    "    \n",
    "    if test.empty:\n",
    "        pass\n",
    "    \n",
    "    else:\n",
    "        \"\"\"\n",
    "        read data; \n",
    "        change default column names;\n",
    "        replace -999 with NaN;\n",
    "        drop unnecessary column;\n",
    "        add column with baseflow calculated with BFI function\n",
    "        add it to list of valid time serieses \n",
    "        \n",
    "        \"\"\"\n",
    "        test.Value = test.Value.replace(-999, np.NaN)\n",
    "        test['YYYY-MM-DD'] = pd.to_datetime(test['YYYY-MM-DD'])\n",
    "        test = test.drop(columns = ['hh:mm'])\n",
    "        test.rename(columns = {'YYYY-MM-DD': 'Date', 'Value': 'Q'}, inplace = True)\n",
    "        test['Qbase'] = np.NaN\n",
    "        list_of_gauges.append(test)\n",
    "        valid_IDS.append(int(list_of_station_IDS[i]))\n",
    "        \n",
    "print('количество постов с убранными пустышками {}, всего постов с суточными данными {}'.format(len(list_of_gauges), len(all_files)))"
   ]
  },
  {
   "cell_type": "code",
   "execution_count": 4,
   "metadata": {},
   "outputs": [],
   "source": [
    "\"\"\"\n",
    "Чтение geojson\n",
    "Создание списка атрибутов всех водосборов с площадью\n",
    "\n",
    "\"\"\"\n",
    "\n",
    "import geojson as gjs\n",
    "with open(path + '/stationbasins.geojson') as f:\n",
    "    WS_info = gjs.load(f)\n",
    "\n",
    "WS_info = [i['attributes'] for i in WS_info['features']]\n",
    "\n",
    "Valid_WS_Info = [WS_info[i] for i in range(len(WS_info)) if WS_info[i]['grdc_no'] in valid_IDS]"
   ]
  },
  {
   "cell_type": "code",
   "execution_count": 5,
   "metadata": {},
   "outputs": [
    {
     "name": "stdout",
     "output_type": "stream",
     "text": [
      "количество постов с суточными данными и площадью 186, всего постов с суточными данными 211\n"
     ]
    }
   ],
   "source": [
    "Valid_WS = pd.DataFrame(columns = {'ID', 'River_Name', 'WS_area'}) # dataframe for WS data\n",
    "Valid_WS.ID = valid_IDS # assign only valuable WS with daily discharge available\n",
    "\n",
    "temp_list_for_AREA = [[] for _ in range(len(Valid_WS.ID))] # empty list to store river name\n",
    "# list of lists is used as a solution to solve .loc copy problem from df\n",
    "temp_list_for_RIVER_NAME = [[] for _ in range(len(Valid_WS.ID))]\n",
    "\n",
    "for j in range(len(Valid_WS.ID)):\n",
    "    for i in range(len(Valid_WS_Info)):\n",
    "        fnd = True\n",
    "        while fnd:\n",
    "            \n",
    "            fnd = False\n",
    "            \n",
    "            if Valid_WS.ID.loc[j] == Valid_WS_Info[i]['grdc_no']:\n",
    "                temp_list_for_AREA[j].append(Valid_WS_Info[i]['area_hys'])\n",
    "                temp_list_for_RIVER_NAME[j].append(Valid_WS_Info[i]['river'] + ' - ' + Valid_WS_Info[i]['station'])\n",
    "                \n",
    "                fnd = True\n",
    "                break\n",
    "                \n",
    "temp_list_for_AREA = [np.NaN if len(i) == 0 else i[0] for i in temp_list_for_AREA]\n",
    "temp_list_for_RIVER_NAME = [np.NaN if len(i) == 0 else i[0] for i in temp_list_for_RIVER_NAME]\n",
    "\n",
    "\"\"\"\n",
    "Датасет сформирован таким образом, что здесь используются только те посты, \n",
    "по которым есть данные суточного стока\n",
    "Расположены они в том же порядке, что и данные по расходам в\n",
    "переменной\n",
    "\n",
    "Далее, обращаясь к ID, получаем данные по площади водосбора,\n",
    "которые используются дальше, при получении миллиметров слоя\n",
    "\n",
    "\"\"\"\n",
    "\n",
    "Valid_WS.River_Name = temp_list_for_RIVER_NAME\n",
    "Valid_WS.WS_area = temp_list_for_AREA\n",
    "Valid_WS = Valid_WS[[Valid_WS.columns.tolist()[1], Valid_WS.columns.tolist()[2], Valid_WS.columns.tolist()[0]]]\n",
    "\n",
    "print('количество постов с суточными данными и площадью {}, всего постов с суточными данными {}'.format(len(Valid_WS.WS_area.dropna()), len(Valid_WS.ID.dropna())))"
   ]
  },
  {
   "cell_type": "code",
   "execution_count": 6,
   "metadata": {},
   "outputs": [],
   "source": [
    "\"\"\"\n",
    "Дальнейший расчёт будет вестись только для тех постов,\n",
    "у которых есть данные о площади\n",
    "\n",
    "\"\"\"\n",
    "Valid_WS = Valid_WS.dropna().reset_index(drop = True)\n",
    "Valid_gauges = [gauge for i, gauge in enumerate(list_of_gauges) if valid_IDS[i] in Valid_WS.ID.to_numpy()]\n",
    "\n",
    "import copy\n",
    "\n",
    "Valid_gauges_Q_mm = copy.deepcopy(Valid_gauges)\n",
    "\n",
    "\"\"\"\n",
    "calculate layer of discharge\n",
    "\n",
    "\"\"\"\n",
    "\n",
    "for i, gauge in enumerate(Valid_gauges_Q_mm):\n",
    "    gauge.Q = 86400 * gauge.Q * 10**9 / (Valid_WS.WS_area.loc[i] * 10**12)\n",
    "    \n"
   ]
  },
  {
   "cell_type": "markdown",
   "metadata": {},
   "source": [
    "#### Функция разбивает непрерывный ряд наблюдений на отдельные года, с учётом количества NaN в году\n",
    "#### На вход подаётся лист датафреймов с двумя необходимыми столбцами:\n",
    "#### Date - где будет записана дата в формате datetime\n",
    "#### Q - где будет записано значение расхода\n",
    "#### Возвращается лист датафреймов отдельных лет, из которых выкинуты те, где количество NaN превысило лимит"
   ]
  },
  {
   "cell_type": "code",
   "execution_count": 13,
   "metadata": {},
   "outputs": [],
   "source": [
    "def split_by_year(list_of_something, number_of_NaN):\n",
    "    \n",
    "    \"\"\"\n",
    "    Данная функция разбивает лист датафреймов по годам\n",
    "    и выкидывает года, где NaN регулируется переменной number_of_NaN\n",
    "    \n",
    "    Колонка Date в датафрейме внутри листа - даты\n",
    "    и она обязательна. \n",
    "    Столбцы могут называться в соответствии с пожеланиями\n",
    "    \n",
    "    \"\"\"\n",
    "    splitted_list = list()\n",
    "\n",
    "    for i, gauge in enumerate(list_of_something):\n",
    "        \"\"\"\n",
    "        From list of lists we are calling another list \n",
    "        that consist list of dataframes\n",
    "\n",
    "        \"\"\"\n",
    "        year_split = list()\n",
    "        unique_years = gauge.Date.dt.year.unique()\n",
    "\n",
    "        for year in unique_years:\n",
    "            year_split.append(gauge[gauge.Date.dt.year == year].reset_index(drop = True))\n",
    "\n",
    "        for i in range(len(year_split)-1, -1, -1):\n",
    "            if sum(year_split[i].Q.isna()) > number_of_NaN:\n",
    "                del year_split[i]\n",
    "            else:\n",
    "                pass\n",
    "\n",
    "        splitted_list.append(year_split)\n",
    "    \n",
    "    return splitted_list"
   ]
  },
  {
   "cell_type": "markdown",
   "metadata": {},
   "source": [
    "### q_mean"
   ]
  },
  {
   "cell_type": "code",
   "execution_count": null,
   "metadata": {},
   "outputs": [],
   "source": [
    "\"\"\"\n",
    "После фильтрации оказалось, что некоторые годы на постах имеют в себе Большое количество пропусков\n",
    "\n",
    "\"\"\"\n",
    "Valid_gauges_Q_mean_yearly = [np.mean([yearly_sum.Q.sum() for yearly_sum in gauge]) if len([yearly_sum.Q.sum() for yearly_sum in gauge]) > 2 else np.NaN for gauge in every_gauge_split_by_year]\n",
    "\n",
    "print('количество постов с рассчитанным средним {}, всего постов с суточными данными {}'.format(\n",
    "    len(np.array(Valid_gauges_Q_mean_yearly)[~np.isnan(Valid_gauges_Q_mean_yearly)]),\n",
    "    len(Valid_gauges_Q_mean_yearly)))"
   ]
  },
  {
   "cell_type": "markdown",
   "metadata": {},
   "source": [
    "### slope_fdc"
   ]
  },
  {
   "cell_type": "code",
   "execution_count": null,
   "metadata": {},
   "outputs": [],
   "source": [
    "np.nanquantile(test.Q.to_numpy(), q = 0.33), np.nanquantile(test.Q.to_numpy(), q = 0.66), np.nanquantile(test.Q.to_numpy(), q = 0.99)"
   ]
  },
  {
   "cell_type": "code",
   "execution_count": null,
   "metadata": {
    "tags": []
   },
   "outputs": [],
   "source": [
    "try:\n",
    "    (math.log(np.nanquantile(test.Q.to_numpy(), q = 0.33)) - math.log(np.nanquantile(test.Q.to_numpy(), q = 0.66)))/(0.66 - 0.33)\n",
    "except ValueError:\n",
    "    print('33 перцентиль = {}, 66 перцентиль = {}'.format(np.nanquantile(test.Q.to_numpy(), q = 0.33), np.nanquantile(test.Q.to_numpy(), q = 0.66)))\n",
    "finally:\n",
    "    print(\n",
    "        (math.log(np.nanquantile(test.Q.to_numpy(), q = 0.33)+0.0009) - math.log(np.nanquantile(test.Q.to_numpy(), q = 0.66)+0.001))/(0.66 - 0.33))"
   ]
  },
  {
   "cell_type": "code",
   "execution_count": null,
   "metadata": {
    "tags": []
   },
   "outputs": [],
   "source": [
    "from numpy import random\n",
    "import matplotlib.pyplot as plt\n",
    "import seaborn as sns\n",
    "\n",
    "sns.histplot(test.Q)\n",
    "\n",
    "plt.show()"
   ]
  },
  {
   "cell_type": "markdown",
   "metadata": {},
   "source": [
    "### baseflow_index"
   ]
  },
  {
   "cell_type": "markdown",
   "metadata": {},
   "source": [
    "#### Функции BFI_calc и BFI_calc_1000 работают Только для одномерных листов данных, приведённых к формату np.array([], dtype = np.float64)\n",
    "#### В результате работы функции BFI_calc возвращается значение коэффициента BFI при заданном alpha и суточная величина фильтрованного стока на каждую дату\n",
    "#### BFI_calc_1000 осуществляет расчёт BFI для alpha, равновозможно выбранного из диапазона от 0.9 до 0.98 1000 раз. \n",
    "#### Функция возвращает осредненные значения для тысячи вычислений для BFI и Qbase"
   ]
  },
  {
   "cell_type": "code",
   "execution_count": 394,
   "metadata": {},
   "outputs": [],
   "source": [
    "import numba\n",
    "\n",
    "\"\"\"\n",
    "Расчёт ведётся для листа в котором нет пропусков. \n",
    "В случае их наличия в общем ряду, он разбивается\n",
    "на n-рядов в зависимости от разбиений\n",
    "\n",
    "Расчёт BFI далее будет производиться для отдельно \n",
    "взятого года наблюдений\n",
    "\n",
    "\"\"\"\n",
    "###################################################################\n",
    "\n",
    "\"\"\"\n",
    "First pass\n",
    "\n",
    "\"\"\"\n",
    "@numba.jit(nopython = True)\n",
    "def FirstPass(Q, alpha):\n",
    "    \n",
    "    q_f_1 = [np.float64(np.NaN) for i in Q]\n",
    "    q_b_1 = [np.float64(np.NaN) for i in Q]\n",
    "    \n",
    "    q_f_1[0] = Q[0]\n",
    "\n",
    "    for j in range(len(Q)-1):\n",
    "        \"\"\"\n",
    "        Для каждого куска считаем быстрый сток\n",
    "\n",
    "        \"\"\"\n",
    "        q_f_1[j+1] = alpha * q_f_1[j] + 0.5 * (1 + alpha) * (Q[j+1] - Q[j])\n",
    "\n",
    "    for j in range(len(Q)):\n",
    "        if q_f_1[j] < 0:\n",
    "            q_b_1[j] = Q[j]\n",
    "        else:\n",
    "            q_b_1[j] = Q[j] - q_f_1[j]\n",
    "\n",
    "    Q_forward_1 = [q_f_1, q_b_1]\n",
    "    \n",
    "    return Q_forward_1\n",
    "\n",
    "###################################################################\n",
    "\"\"\"\n",
    "Backward pass\n",
    "\n",
    "\"\"\"\n",
    "@numba.jit(nopython = True)\n",
    "def BackwardPass(Q_forward_1, alpha):\n",
    "\n",
    "    \"\"\"\n",
    "    Здесь Q - n-мерный лист в зависимости от числа разбиений\n",
    "    \"\"\"\n",
    "\n",
    "    Qq = Q_forward_1[0]\n",
    "    Qb = Q_forward_1[1]\n",
    "\n",
    "    q_f_2 = [np.float64(np.NaN) for i in Qq]\n",
    "    q_b_2 = [np.float64(np.NaN) for i in Qb]\n",
    "\n",
    "\n",
    "    \"последняя величина предыдущего шага - первая в обратном\"\n",
    "    q_f_2[-1] = Qb[-1]\n",
    "\n",
    "    for j in range(len(Qq)-2, -1, -1):\n",
    "        q_f_2[j] = alpha * q_f_2[j+1] + 0.5 * (1 + alpha) * (Qb[j] - Qb[j+1])\n",
    "\n",
    "    for j in range(len(Qq)-1, -1, -1):\n",
    "        if q_f_2[j] < 0:\n",
    "            q_b_2[j] = Qb[j]\n",
    "        else:\n",
    "            q_b_2[j] = Qb[j] - q_f_2[j]\n",
    "                \n",
    "    Q_backward = [q_f_2, q_b_2]\n",
    "\n",
    "    return Q_backward\n",
    "\n",
    "###################################################################\n",
    "\"\"\"\n",
    "Forward pass\n",
    "\n",
    "\"\"\"\n",
    "@numba.jit(nopython = True)\n",
    "def ForwardPass(Q_backward, alpha):\n",
    "\n",
    "    Qq = Q_backward[0]\n",
    "    Qb = Q_backward[1]\n",
    "\n",
    "    q_f_3 = [np.float64(np.NaN) for i in Qq]\n",
    "    q_b_3 = [np.float64(np.NaN) for i in Qb]\n",
    "\n",
    "\n",
    "    \"Теперь первая величина предыдущего шага - первая и здесь\"\n",
    "\n",
    "    q_f_3[0] = Qb[0]\n",
    "\n",
    "    for j in range(len(Qb)-1):\n",
    "\n",
    "        q_f_3[j+1] = alpha * q_f_3[j] + 0.5 * (1 + alpha) * (Qb[j+1] - Qb[j])\n",
    "\n",
    "    for j in range(len(Qb)):\n",
    "        if q_f_3[j] < 0:\n",
    "            q_b_3[j] = Qb[j]\n",
    "        else:\n",
    "            q_b_3[j] = Qb[j] - q_f_3[j]\n",
    "\n",
    "    Q_forward = [q_f_3, q_b_3]\n",
    "\n",
    "    return Q_forward\n",
    "\n",
    "###################################################################\n",
    "\"\"\"\n",
    "BFI calculations for given alpha\n",
    "\n",
    "\"\"\"\n",
    "@numba.jit(nopython = True)\n",
    "def BFI_calc(Q, alpha, passes, reflect):\n",
    "    \"\"\"\n",
    "    we reflect the first reflect values and the last reflect values.  \n",
    "    this is to get rid of 'warm up' problems © Anthony Ladson\n",
    "    \"\"\" \n",
    "    Qin = Q\n",
    "    \n",
    "    \"отложим отраженные величины с конца и начала нашего ряда\"\n",
    "    \n",
    "    if len(Q)-1 > reflect:\n",
    "        Q_reflect = np.array([np.float64(np.NaN) for _ in range(len(Q) + 2 * reflect)], dtype = np.float64)\n",
    "\n",
    "        Q_reflect[:reflect] = Q[(reflect):0:-1]\n",
    "        Q_reflect[(reflect):(reflect + len(Q))] = Q\n",
    "        Q_reflect[(reflect + len(Q)):(len(Q) + 2 + 2 * reflect)] = Q[len(Q)-2:len(Q) - reflect - 2:-1]\n",
    "        \n",
    "    else:        \n",
    "        Q_reflect = np.array([np.float64(np.NaN) for _ in range(len(Q))], dtype = np.float64)                 \n",
    "        Q_reflect = Q\n",
    "    \n",
    "    Q1 = FirstPass(Q_reflect, alpha)\n",
    "\n",
    "    \"how many backwards/forward passes to we need © Anthony Ladson\"\n",
    "\n",
    "    n_pass = round(0.5 * (passes -1))\n",
    "\n",
    "    BackwardPass(Q1, alpha)\n",
    "\n",
    "    for i in range(n_pass):\n",
    "        Q1 = ForwardPass(BackwardPass(Q1, alpha), alpha)\n",
    "\n",
    "    ################# end of passes  ##############################\n",
    "    if len(Q)-1 > reflect:\n",
    "        Qbase = Q1[1][reflect:(len(Q1[1])-reflect)]\n",
    "        Qbase = [0 if j < 0 else j for j in Qbase]\n",
    "    else:\n",
    "        Qbase = Q1[1]\n",
    "        Qbase = [0 if j < 0 else j for j in Qbase]\n",
    "\n",
    "    bfi = 0\n",
    "    mean_for_period = 0\n",
    "    \n",
    "    if np.mean(Qin) == 0:\n",
    "        bfi = 0\n",
    "    else:\n",
    "        for j in Qbase:\n",
    "            mean_for_period += j/np.mean(Qin)\n",
    "        bfi = mean_for_period/len(Qbase)\n",
    "\n",
    "    return bfi, Qbase\n",
    "\n",
    "\"\"\"\n",
    "BFI calculations for 1000 alpha between 0.9 and 0.98\n",
    "\n",
    "\"\"\"\n",
    "\n",
    "import random\n",
    "@numba.jit(nopython = True)\n",
    "def BFI_calc_1000(Q, passes, reflect):\n",
    "    \"\"\"\n",
    "    Расчёт проводится для 1000 случайных значений alpha\n",
    "    в диапазоне он 0.9 до 0.98\n",
    "    \n",
    "    we reflect the first reflect values and the last reflect values.  \n",
    "    this is to get rid of 'warm up' problems © Anthony Ladson\n",
    "    \"\"\" \n",
    "    \n",
    "    random.seed(1996)\n",
    "    alpha_coefficients = [np.float64(random.uniform(0.9, 0.98)) for i in range(1000)]\n",
    "    \n",
    "    Q = np.array([np.float64(i) for i in Q], dtype = np.float64)\n",
    "    Qin = Q\n",
    "    \n",
    "    \"отложим отраженные величины с конца и начала нашего ряда\"\n",
    "    \n",
    "    if len(Q)-1 > reflect:\n",
    "        Q_reflect = np.array([np.float64(np.NaN) for _ in range(len(Q) + 2 * reflect)], dtype = np.float64)\n",
    "\n",
    "        Q_reflect[:reflect] = Q[(reflect):0:-1]\n",
    "        Q_reflect[(reflect):(reflect + len(Q))] = Q\n",
    "        Q_reflect[(reflect + len(Q)):(len(Q) + 2 + 2 * reflect)] = Q[len(Q)-2:len(Q) - reflect - 2:-1]\n",
    "        \n",
    "    else:        \n",
    "        Q_reflect = np.array([np.float64(np.NaN) for _ in range(len(Q))], dtype = np.float64)                 \n",
    "        Q_reflect = Q\n",
    "    \n",
    "    bfi_record = []\n",
    "    Qbase_record = []\n",
    "    \n",
    "    for i, alpha in enumerate(alpha_coefficients):\n",
    "        \n",
    "        Q1 = FirstPass(Q_reflect, alpha)\n",
    "\n",
    "        \"how many backwards/forward passes to we need © Anthony Ladson\"\n",
    "\n",
    "        n_pass = round(0.5 * (passes -1))\n",
    "\n",
    "        BackwardPass(Q1, alpha)\n",
    "\n",
    "        for i in range(n_pass):\n",
    "            Q1 = ForwardPass(BackwardPass(Q1, alpha), alpha)\n",
    "        \n",
    "\n",
    "        ################# end of passes  ##############################\n",
    "        if len(Q)-1 > reflect:\n",
    "            Qbase = Q1[1][reflect:(len(Q1[1])-reflect)]\n",
    "            Qbase = [0 if j < 0 else j for j in Qbase]\n",
    "        else:\n",
    "            Qbase = Q1[1]\n",
    "            Qbase = [0 if j < 0 else j for j in Qbase]\n",
    "        \n",
    "        Qbase_record.append(np.array(Qbase, dtype=np.float64))\n",
    "        \n",
    "        bfi = 0\n",
    "        mean_for_period = 0\n",
    "\n",
    "        if np.mean(Qin) == 0:\n",
    "            bfi = 0\n",
    "        else:\n",
    "            for j in Qbase:\n",
    "                mean_for_period += j/np.mean(Qin)\n",
    "            bfi = mean_for_period/len(Qbase)\n",
    "            \n",
    "        bfi_record.append(np.float64(bfi))\n",
    "        \n",
    "    \"\"\"\n",
    "    Поcле расчёта 1000 значений BFI\n",
    "    функция возвращает среднее значение из тысячи\n",
    "    \n",
    "    И средний гидрограф из тысячи гидрографов Qbase\n",
    "    \n",
    "    \"\"\"\n",
    "    \n",
    "    #средний BFI из тысячи\n",
    "    \n",
    "    bfi_mean = 0\n",
    "    for i in bfi_record:\n",
    "        bfi_mean += i\n",
    "    bfi_mean = bfi_mean/len(bfi_record)\n",
    "    \n",
    "    # средний гидрограф из тысячи\n",
    "\n",
    "    Qbase_mean = [np.float64(0) for i in range(len(Qbase))]\n",
    "    \n",
    "    for Qbase_temp in Qbase_record:\n",
    "        for i, value in enumerate(Qbase_temp):\n",
    "            Qbase_mean[i] += value\n",
    "    \n",
    "    Qbase_mean = [np.float64(i/len(Qbase_record)) for i in Qbase_mean]\n",
    "        \n",
    "    return bfi_mean, Qbase_mean"
   ]
  },
  {
   "cell_type": "markdown",
   "metadata": {},
   "source": [
    "#### Расчёт BFI при alpha выбранных равновозможно из диапазона от 0.9 до 0.98 \n",
    "#### В листы листов сохраняются временные значения, которые необходимы для дальнейшего расчёта:\n",
    "#### clump_bfi, weights_of_clump - для взвешенного значения BFI на посту за период наблюдений\n",
    "#### clump_Qbase - для расчёта грунтовой составляющей"
   ]
  },
  {
   "cell_type": "code",
   "execution_count": null,
   "metadata": {},
   "outputs": [],
   "source": [
    "clump_bfi = [[[[] for clump in year]  for year in gauge] for gauge in every_gauge_split_by_year_np]\n",
    "weights_of_clump = [[[[] for clump in year]  for year in gauge] for gauge in every_gauge_split_by_year_np]\n",
    "clump_Qbase = [[[[] for clump in year]  for year in gauge] for gauge in every_gauge_split_by_year_np]\n",
    "\n",
    "for i, gauge in enumerate(every_gauge_split_by_year_np):\n",
    "    start = time.time()\n",
    "    for j, year in enumerate(gauge):\n",
    "        for k, clump in enumerate(year):\n",
    "            # проверка, что кусок между NaN больше, длины сравнения\n",
    "            if type(clump) == np.ndarray:\n",
    "                clump_bfi[i][j][k] = BFI_calc_1000(clump, 3, 30)[0]\n",
    "                weights_of_clump[i][j][k] = len(clump)\n",
    "                clump_Qbase[i][j][k] = BFI_calc_1000(clump, 3, 30)[1]\n",
    "            else:\n",
    "                clump_bfi[i][j][k] = np.NaN\n",
    "                weights_of_clump[i][j][k] = np.NaN\n",
    "                clump_Qbase[i][j][k] = [np.NaN]\n",
    "    stop = time.time()\n",
    "    print('итерация {} закончилась за {} секунд'.format(i, round(stop - start)))"
   ]
  },
  {
   "cell_type": "code",
   "execution_count": 428,
   "metadata": {},
   "outputs": [],
   "source": [
    "pd.DataFrame(clump_Qbase).to_csv(\"clump_Qbase.csv\")\n",
    "pd.DataFrame(weights_of_clump).to_csv(\"weights_of_clump.csv\")\n",
    "pd.DataFrame(clump_bfi).to_csv(\"clump_bfi.csv\")"
   ]
  },
  {
   "cell_type": "markdown",
   "metadata": {},
   "source": [
    "### проверка на базовом датасете Anthony Ladson"
   ]
  },
  {
   "cell_type": "code",
   "execution_count": 395,
   "metadata": {},
   "outputs": [],
   "source": [
    "import requests\n",
    "import csv\n",
    "url = \"https://raw.github.com/TonyLadson/data/master/data/BassRiver@Loch.csv\"\n",
    "\n",
    "with requests.Session() as s:\n",
    "    download = s.get(url)\n",
    "\n",
    "    decoded_content = download.content.decode('utf-8')\n",
    "\n",
    "    cr = csv.reader(decoded_content.splitlines(), delimiter=',')\n",
    "    my_list = list(cr)\n",
    "\n",
    "my_list = [np.float64(i[0]) for i in my_list]"
   ]
  },
  {
   "cell_type": "code",
   "execution_count": 396,
   "metadata": {},
   "outputs": [
    {
     "name": "stdout",
     "output_type": "stream",
     "text": [
      "BFI on random values from 0.9 to 0.98 = 0.35213351185633607, BFI on alpha 0.98 = 0.1965758714772886\n"
     ]
    }
   ],
   "source": [
    "t = BFI_calc_1000(np.array(my_list, dtype = np.float64), 3, 30)\n",
    "t1 = BFI_calc(np.array(my_list, dtype = np.float64), 0.98, 3, 30)\n",
    "print('BFI on random values from 0.9 to 0.98 = {}, BFI on alpha 0.98 = {}'.format(t[0], t1[0]))"
   ]
  },
  {
   "cell_type": "markdown",
   "metadata": {},
   "source": [
    "#### Given function split one array with NaN's to several arrays without NaN's depends on number of NaN intervals\n",
    "#### If there's no NaN exist in array It'll return nested array with original one"
   ]
  },
  {
   "cell_type": "code",
   "execution_count": 397,
   "metadata": {},
   "outputs": [],
   "source": [
    "def clump_array(a):\n",
    "\n",
    "    \"\"\"\n",
    "    Разбить период наблюдений на куски, в которых нет NaN\n",
    "    \"\"\"\n",
    "\n",
    "    return [np.float64(a[s]) for s in np.ma.clump_unmasked(np.ma.masked_invalid(a))]"
   ]
  },
  {
   "cell_type": "code",
   "execution_count": 398,
   "metadata": {},
   "outputs": [
    {
     "data": {
      "text/plain": [
       "[array([1., 2., 3.]), array([5., 6., 6.]), array([3., 4.])]"
      ]
     },
     "execution_count": 398,
     "metadata": {},
     "output_type": "execute_result"
    }
   ],
   "source": [
    "clump_test = np.array([1, 2, 3, np.NaN, np.NaN, 5, 6, 6, np.NaN, 3, 4])\n",
    "clump_array(clump_test)"
   ]
  },
  {
   "cell_type": "code",
   "execution_count": 399,
   "metadata": {},
   "outputs": [
    {
     "data": {
      "text/plain": [
       "[array([1., 2., 3., 4., 5., 6.])]"
      ]
     },
     "execution_count": 399,
     "metadata": {},
     "output_type": "execute_result"
    }
   ],
   "source": [
    "clump_test_2 = [1, 2, 3, 4, 5, 6]\n",
    "clump_array(clump_test_2)"
   ]
  },
  {
   "cell_type": "markdown",
   "metadata": {},
   "source": [
    "#### This function takes two arguments:\n",
    "#### Given array with NaN's or without them\n",
    "#### If NaN exists it split's array to number of arrays depended on number of NaN intervals\n",
    "#### and create mask with boolean value for every array:\n",
    "#### If split consist NaN it'll be marked with False, otherwise - True\n",
    "#### This function allows to rebuild BFI calculations to the equal length of given array, considering NaN's in original one"
   ]
  },
  {
   "cell_type": "code",
   "execution_count": 400,
   "metadata": {},
   "outputs": [],
   "source": [
    "from itertools import groupby\n",
    "def bfi_recover(year_of_observation, bfi_values):\n",
    "    \n",
    "    \"\"\"\n",
    "    Восстановления ряда baseflow с учётом ранее \"выбитых\" пропусков\n",
    "    \"\"\"\n",
    "    Qbase_full = [list(group) for key, group in groupby(year_of_observation.Q.to_numpy(), key=np.isnan)] # разбитие на группы по признаку. Получается n листов. NaN и !NaN разбиты по листам\n",
    "    mask_to_refill = [~np.isnan(i).any() for i in Qbase_full] # индексируем их как одинокие булевые величины\n",
    "\n",
    "    position_index = -1\n",
    "    for j, mask in enumerate(mask_to_refill):\n",
    "        \"\"\"\n",
    "        Так как первичный разрезанный лист из функции clumped_array имеет в себе количество листов, такое же как и True, то восстанавливаем в соответствии\n",
    "\n",
    "        Аргумент position_index подбирается в соответствии с присутсвием с True и адресуется к нужному куску в Qbase\n",
    "\n",
    "        Всё перезаписывается в лист, где в перезаписываемых значениях эквивалентные по длине значения стока\n",
    "        \"\"\"\n",
    "        if len(Qbase_full) > 1:\n",
    "            if mask:\n",
    "                position_index += 1\n",
    "                Qbase_full[j] = bfi_values[position_index]\n",
    "            else:\n",
    "                position_index = position_index\n",
    "                Qbase_full[j] = Qbase_full[j]\n",
    "        else:\n",
    "            Qbase_full[j] = [item for sublist in bfi_values for item in sublist]\n",
    "            \n",
    "    if len(Qbase_full) > 1:\n",
    "        Qbase_full = [item for sublist in Qbase_full for item in sublist] # лист листов в лист с учётом NaN\n",
    "    else:\n",
    "        Qbase_full = [item for sublist in Qbase_full for item in sublist]\n",
    "    \n",
    "    return Qbase_full"
   ]
  },
  {
   "cell_type": "markdown",
   "metadata": {},
   "source": [
    "#### Разбитие непрерывных рядов наблюдений постов,\n",
    "#### у которых есть площади и есть ряды суточных наблюдений\n",
    "#### на лист датафреймов с тремя колонками\n",
    "#### Date, Q, Qbase. Где Q - сток в cms. Qbase - грунтовая составляющая, расчитанная по BFI"
   ]
  },
  {
   "cell_type": "code",
   "execution_count": null,
   "metadata": {},
   "outputs": [],
   "source": [
    "split_by_year(Valid_gauges, 60)"
   ]
  },
  {
   "cell_type": "code",
   "execution_count": 226,
   "metadata": {},
   "outputs": [],
   "source": [
    "every_gauge_split_by_year = split_by_year(Valid_gauges, 60)\n",
    "every_gauge_split_by_year_np = [[clump_array(year.Q.to_numpy()) for year in gauge] for gauge in every_gauge_split_by_year]"
   ]
  },
  {
   "cell_type": "markdown",
   "metadata": {},
   "source": [
    "#### Заполнение столбца Qbase восстанавливая разбитые на куски без NaN наблюдения за стоком"
   ]
  },
  {
   "cell_type": "code",
   "execution_count": 388,
   "metadata": {},
   "outputs": [],
   "source": [
    "for i, gauge in enumerate(every_gauge_split_by_year_np):\n",
    "    for j, year in enumerate(gauge):\n",
    "        for k, clump in enumerate(year):\n",
    "            every_gauge_split_by_year[i][j].Qbase = bfi_recover(every_gauge_split_by_year[i][j], clump_Qbase[i][j])"
   ]
  },
  {
   "cell_type": "markdown",
   "metadata": {},
   "source": [
    "#### Сохранение данных для предварительного анализа"
   ]
  },
  {
   "cell_type": "code",
   "execution_count": 475,
   "metadata": {},
   "outputs": [],
   "source": [
    "test = str('OLENEK - 7.5KM D/S OF MOUTH OF RIVER PUR')"
   ]
  },
  {
   "cell_type": "code",
   "execution_count": 480,
   "metadata": {},
   "outputs": [],
   "source": [
    "import re\n",
    "\n",
    "WS_names = [re.sub('[/]', '', Valid_WS.River_Name[i]) for i in range(len(Valid_WS))]\n",
    "year_of_observation = [[str(int(year.Date.dt.year.unique())) for year in gauge] for gauge in every_gauge_split_by_year]\n",
    "names_for_files = [[WS_names[i] + ' ' + year for year in year_of_observation[i]] for i in range(len(WS_names))]"
   ]
  },
  {
   "cell_type": "code",
   "execution_count": 482,
   "metadata": {},
   "outputs": [],
   "source": [
    "folder = 'Qbase_data'\n",
    "import os\n",
    "if not os.path.exists(folder):\n",
    "    os.makedirs(folder)\n",
    "    \n",
    "for i, gauge in enumerate(every_gauge_split_by_year):\n",
    "    for j, year in enumerate(gauge):\n",
    "        year.to_csv(folder + '/' + names_for_files[i][j] + '.csv')"
   ]
  },
  {
   "cell_type": "markdown",
   "metadata": {},
   "source": [
    "#### Пример проблемного графика с промежутком пропусков"
   ]
  },
  {
   "cell_type": "code",
   "execution_count": 391,
   "metadata": {},
   "outputs": [
    {
     "data": {
      "text/plain": [
       "<AxesSubplot:xlabel='Date'>"
      ]
     },
     "execution_count": 391,
     "metadata": {},
     "output_type": "execute_result"
    },
    {
     "data": {
      "image/png": "[encoded data removed]",
      "text/plain": [
       "<Figure size 432x288 with 1 Axes>"
      ]
     },
     "metadata": {
      "needs_background": "light"
     },
     "output_type": "display_data"
    }
   ],
   "source": [
    "every_gauge_split_by_year[0][19].set_index('Date').plot()"
   ]
  },
  {
   "cell_type": "code",
   "execution_count": 156,
   "metadata": {},
   "outputs": [
    {
     "data": {
      "text/plain": [
       "<AxesSubplot:xlabel='Date'>"
      ]
     },
     "execution_count": 156,
     "metadata": {},
     "output_type": "execute_result"
    },
    {
     "data": {
      "image/png": "[encoded data removed]",
      "text/plain": [
       "<Figure size 432x288 with 1 Axes>"
      ]
     },
     "metadata": {
      "needs_background": "light"
     },
     "output_type": "display_data"
    }
   ],
   "source": [
    "every_gauge_split_by_year[0][0].set_index('Date').plot()"
   ]
  },
  {
   "cell_type": "code",
   "execution_count": 404,
   "metadata": {},
   "outputs": [
    {
     "data": {
      "text/html": [
       "<div>\n",
       "<style scoped>\n",
       "    .dataframe tbody tr th:only-of-type {\n",
       "        vertical-align: middle;\n",
       "    }\n",
       "\n",
       "    .dataframe tbody tr th {\n",
       "        vertical-align: top;\n",
       "    }\n",
       "\n",
       "    .dataframe thead th {\n",
       "        text-align: right;\n",
       "    }\n",
       "</style>\n",
       "<table border=\"1\" class=\"dataframe\">\n",
       "  <thead>\n",
       "    <tr style=\"text-align: right;\">\n",
       "      <th></th>\n",
       "      <th>Date</th>\n",
       "      <th>Q</th>\n",
       "      <th>Qbase</th>\n",
       "    </tr>\n",
       "  </thead>\n",
       "  <tbody>\n",
       "    <tr>\n",
       "      <th>0</th>\n",
       "      <td>1955-01-01</td>\n",
       "      <td>194.0</td>\n",
       "      <td>98.225104</td>\n",
       "    </tr>\n",
       "    <tr>\n",
       "      <th>1</th>\n",
       "      <td>1955-01-02</td>\n",
       "      <td>188.0</td>\n",
       "      <td>101.039546</td>\n",
       "    </tr>\n",
       "    <tr>\n",
       "      <th>2</th>\n",
       "      <td>1955-01-03</td>\n",
       "      <td>188.0</td>\n",
       "      <td>103.773396</td>\n",
       "    </tr>\n",
       "    <tr>\n",
       "      <th>3</th>\n",
       "      <td>1955-01-04</td>\n",
       "      <td>186.0</td>\n",
       "      <td>106.418522</td>\n",
       "    </tr>\n",
       "    <tr>\n",
       "      <th>4</th>\n",
       "      <td>1955-01-05</td>\n",
       "      <td>186.0</td>\n",
       "      <td>108.972573</td>\n",
       "    </tr>\n",
       "    <tr>\n",
       "      <th>...</th>\n",
       "      <td>...</td>\n",
       "      <td>...</td>\n",
       "      <td>...</td>\n",
       "    </tr>\n",
       "    <tr>\n",
       "      <th>360</th>\n",
       "      <td>1955-12-27</td>\n",
       "      <td>217.0</td>\n",
       "      <td>187.008639</td>\n",
       "    </tr>\n",
       "    <tr>\n",
       "      <th>361</th>\n",
       "      <td>1955-12-28</td>\n",
       "      <td>220.0</td>\n",
       "      <td>185.635898</td>\n",
       "    </tr>\n",
       "    <tr>\n",
       "      <th>362</th>\n",
       "      <td>1955-12-29</td>\n",
       "      <td>223.0</td>\n",
       "      <td>183.996372</td>\n",
       "    </tr>\n",
       "    <tr>\n",
       "      <th>363</th>\n",
       "      <td>1955-12-30</td>\n",
       "      <td>227.0</td>\n",
       "      <td>182.038499</td>\n",
       "    </tr>\n",
       "    <tr>\n",
       "      <th>364</th>\n",
       "      <td>1955-12-31</td>\n",
       "      <td>223.0</td>\n",
       "      <td>179.965293</td>\n",
       "    </tr>\n",
       "  </tbody>\n",
       "</table>\n",
       "<p>365 rows × 3 columns</p>\n",
       "</div>"
      ],
      "text/plain": [
       "          Date      Q       Qbase\n",
       "0   1955-01-01  194.0   98.225104\n",
       "1   1955-01-02  188.0  101.039546\n",
       "2   1955-01-03  188.0  103.773396\n",
       "3   1955-01-04  186.0  106.418522\n",
       "4   1955-01-05  186.0  108.972573\n",
       "..         ...    ...         ...\n",
       "360 1955-12-27  217.0  187.008639\n",
       "361 1955-12-28  220.0  185.635898\n",
       "362 1955-12-29  223.0  183.996372\n",
       "363 1955-12-30  227.0  182.038499\n",
       "364 1955-12-31  223.0  179.965293\n",
       "\n",
       "[365 rows x 3 columns]"
      ]
     },
     "execution_count": 404,
     "metadata": {},
     "output_type": "execute_result"
    }
   ],
   "source": [
    "every_gauge_split_by_year[0][0]"
   ]
  },
  {
   "cell_type": "markdown",
   "metadata": {},
   "source": [
    "#### BFI without numba support"
   ]
  },
  {
   "cell_type": "code",
   "execution_count": 11,
   "metadata": {
    "jupyter": {
     "source_hidden": true
    }
   },
   "outputs": [],
   "source": [
    "\"Создаём отдельные вектора в соответствии с разбиением на куски без NaN\"\n",
    "\n",
    "###################################################################\n",
    "\n",
    "\n",
    "def FirstPass(Q, alpha):\n",
    "\n",
    "    q_f_1 = [[[] for _ in range(len(i))] for i in Q]\n",
    "    q_b_1 = [[[] for _ in range(len(i))] for i in Q]\n",
    "\n",
    "    for i in range(len(Q)):           \n",
    "        \"\"\"\n",
    "        Задаём первые величины векторе \"быстрого\" стока\n",
    "\n",
    "        \"\"\"\n",
    "        q_f_1[i][0] = Q[i][0]\n",
    "\n",
    "        for j in range(len(Q[i])-1):\n",
    "            \"\"\"\n",
    "            Для каждого куска считаем быстрый сток\n",
    "\n",
    "            \"\"\"\n",
    "            q_f_1[i][j+1] = alpha * q_f_1[i][j] + 0.5 * (1 + alpha) * (Q[i][j+1] - Q[i][j])\n",
    "\n",
    "        for j in range(len(Q[i])):\n",
    "            if q_f_1[i][j] < 0:\n",
    "                q_b_1[i][j] = Q[i][j]\n",
    "            else:\n",
    "                q_b_1[i][j] = Q[i][j] - q_f_1[i][j]\n",
    "    \n",
    "    Q_forward_1 = [q_f_1, q_b_1]\n",
    "    \n",
    "    return q_f_1, q_b_1\n",
    "\n",
    "###################################################################\n",
    "\n",
    "def BackwardPass(Q_forward_1, alpha):\n",
    "\n",
    "    \"\"\"\n",
    "    Здесь Q - n-мерный лист в зависимости от числа разбиений\n",
    "    \"\"\"\n",
    "\n",
    "    Qq = Q_forward_1[0]\n",
    "    Qb = Q_forward_1[1]\n",
    "\n",
    "    q_f_2 = [[[] for _ in range(len(i))] for i in Qq]\n",
    "    q_b_2 = [[[] for _ in range(len(i))] for i in Qb]\n",
    "\n",
    "    for i in range(len(Qq)):\n",
    "        \"последняя величина предыдущего шага - первая в обратном\"\n",
    "        q_f_2[i][-1] = Qb[i][-1]\n",
    "\n",
    "        for j in range(len(Qq[i])-2, -1, -1):\n",
    "            q_f_2[i][j] = alpha * q_f_2[i][j+1] + 0.5 * (1 + alpha) * (Qb[i][j] - Qb[i][j+1])\n",
    "\n",
    "        for j in reversed(range(len(Qq[i]))):\n",
    "            if q_f_2[i][j] < 0:\n",
    "                q_b_2[i][j] = Qb[i][j]\n",
    "            else:\n",
    "                q_b_2[i][j] = Qb[i][j] - q_f_2[i][j]\n",
    "    Q_backward = [q_f_2, q_b_2]\n",
    "\n",
    "    return Q_backward\n",
    "\n",
    "###################################################################\n",
    "\n",
    "def ForwardPass(Q_backward, alpha):\n",
    "\n",
    "    Qq = Q_backward[0]\n",
    "    Qb = Q_backward[1]\n",
    "\n",
    "    q_f_3 = [[[] for _ in range(len(i))] for i in Qq]\n",
    "    q_b_3 = [[[] for _ in range(len(i))] for i in Qb]\n",
    "\n",
    "    for i in range(len(Qq)):\n",
    "\n",
    "        \"Теперь первая величина предыдущего шага - первая и здесь\"\n",
    "\n",
    "        q_f_3[i][0] = Qb[i][0]\n",
    "\n",
    "        for j in range(len(Qb[i])-1):\n",
    "\n",
    "            q_f_3[i][j+1] = alpha * q_f_3[i][j] + 0.5 * (1 + alpha) * (Qb[i][j+1] - Qb[i][j])\n",
    "\n",
    "        for j in range(len(Qb[i])):\n",
    "            if q_f_3[i][j] < 0:\n",
    "                q_b_3[i][j] = Qb[i][j]\n",
    "            else:\n",
    "                q_b_3[i][j] = Qb[i][j] - q_f_3[i][j]\n",
    "\n",
    "    Q_forward = [q_f_3, q_b_3]\n",
    "\n",
    "    return Q_forward\n",
    "\n",
    "###################################################################\n",
    "\n",
    "def BFI_calc(Q, alpha, passes, reflect):\n",
    "    \"\"\"\n",
    "    we reflect the first reflect values and the last reflect values.  \n",
    "    this is to get rid of 'warm up' problems © Anthony Ladson\n",
    "    \"\"\" \n",
    "    \n",
    "    Qin = Q\n",
    "    \n",
    "    \"отложим отраженные величины с конца и начала нашего ряда\"\n",
    "    Q_reflect = [[[] for _ in range(len(i) + 2 * reflect)] for i in Q]\n",
    "\n",
    "    for i in range(len(Q_reflect)):\n",
    "\n",
    "        Q_reflect[i][:reflect] = Q[i][(reflect):0:-1] #добавляем \n",
    "\n",
    "        Q_reflect[i][(reflect):(reflect + len(Q[i]))] = Q[i]\n",
    "\n",
    "        Q_reflect[i][(reflect + len(Q[i])):(len(Q[i]) + 2 + 2 * reflect)] = Q[i][len(Q[i])-2:len(Q[i]) - reflect - 2:-1]\n",
    "    \n",
    "    Q1 = FirstPass(Q_reflect, alpha)\n",
    "\n",
    "    \"how many backwards/forward passes to we need © Anthony Ladson\"\n",
    "\n",
    "    n_pass = round(0.5 * (passes -1))\n",
    "\n",
    "    BackwardPass(Q1, alpha)\n",
    "\n",
    "    for i in range(n_pass):\n",
    "        Q1 = ForwardPass(BackwardPass(Q1, alpha), alpha)\n",
    "\n",
    "    ################# end of passes  ##############################\n",
    "    \n",
    "    Qbase = [i[reflect:(len(i)-reflect)] for i in Q1[1]]\n",
    "    Qbase = [[0 if j < 0 else j for j in i] for i in Qbase]\n",
    "    \n",
    "    # расчёт взвешенного среднего для разбитого на куски ряда расходов\n",
    "    \n",
    "    len_Qbase = len([item for sublist in Qbase for item in sublist]) # длина всех расходов, без учёта пропусков\n",
    "    weights_for_average = [len(i)/len_Qbase for i in Qbase] # вес для среднего по каждому элементу\n",
    "    \n",
    "    weighted_bfi = np.sum([weights_for_average[i] * np.nanmean(Qbase[i]/np.nanmean(Qin[i])) if np.nanmean(Qin[i]) != 0 else weights_for_average[i] * 0 for i in range(len(Qbase))]) #взвешенное среднее по выпуклой комбинации\n",
    "\n",
    "    return weighted_bfi, Qbase"
   ]
  },
  {
   "cell_type": "markdown",
   "metadata": {},
   "source": [
    "### hfd_mean"
   ]
  },
  {
   "cell_type": "code",
   "execution_count": null,
   "metadata": {},
   "outputs": [],
   "source": [
    "split_by_year = [test[test['Date'].dt.year == y].reset_index(drop = True) for y in test['Date'].dt.year.unique()]\n",
    "\n",
    "hfd = list()"
   ]
  },
  {
   "cell_type": "code",
   "execution_count": null,
   "metadata": {},
   "outputs": [],
   "source": [
    "for i in range(len(split_by_year)):\n",
    "    half_discharge = 0\n",
    "    for j, discharge in enumerate(split_by_year[i].Q):    \n",
    "        half_discharge += discharge\n",
    "        if half_discharge > split_by_year[i].Q.sum()/2:\n",
    "            break\n",
    "    hfd.append(split_by_year[i].Date[j])\n",
    "    "
   ]
  },
  {
   "cell_type": "code",
   "execution_count": null,
   "metadata": {},
   "outputs": [],
   "source": [
    "hfd"
   ]
  }
 ],
 "metadata": {
  "kernelspec": {
   "display_name": "Python 3.8.5 64-bit ('geo': conda)",
   "language": "python",
   "name": "python38564bitgeoconda80ab28450b61475ea094e6781ce7b782"
  },
  "language_info": {
   "codemirror_mode": {
    "name": "ipython",
    "version": 3
   },
   "file_extension": ".py",
   "mimetype": "text/x-python",
   "name": "python",
   "nbconvert_exporter": "python",
   "pygments_lexer": "ipython3",
   "version": "3.8.6"
  }
 },
 "nbformat": 4,
 "nbformat_minor": 4
}
