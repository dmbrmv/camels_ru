{
 "cells": [
  {
   "cell_type": "code",
   "execution_count": 1,
   "metadata": {},
   "outputs": [],
   "source": [
    "import pandas as pd\n",
    "import numpy as np\n",
    "import math\n",
    "import glob\n",
    "import datetime"
   ]
  },
  {
   "cell_type": "markdown",
   "metadata": {},
   "source": [
    "### вытащить площади\n",
    "### привести к миллиметрам\n",
    "### досчитать мелочи"
   ]
  },
  {
   "cell_type": "code",
   "execution_count": 387,
   "metadata": {},
   "outputs": [],
   "source": [
    "path = '/mnt/SSD/education/aspirantura/CAMELS_ru/files/hydrology/2020-09-22_15-39'\n",
    "all_files = glob.glob(path + '/*_Q_Day.Cmd.txt')\n",
    "\n",
    "test = pd.read_csv(all_files[14], skiprows = 36, delimiter = ';', skipinitialspace = True)\n",
    "test.Value = test.Value.replace(-999, np.NaN)\n",
    "test['YYYY-MM-DD'] = pd.to_datetime(test['YYYY-MM-DD'])\n",
    "test = test.drop(columns = ['hh:mm'])\n",
    "test.rename(columns = {'YYYY-MM-DD': 'Date', 'Value': 'Q'}, inplace = True)\n",
    "test['Qbase'] = np.NaN"
   ]
  },
  {
   "cell_type": "markdown",
   "metadata": {},
   "source": [
    "### q_mean"
   ]
  },
  {
   "cell_type": "code",
   "execution_count": 364,
   "metadata": {},
   "outputs": [
    {
     "data": {
      "text/plain": [
       "0.3417528910529519"
      ]
     },
     "execution_count": 364,
     "metadata": {},
     "output_type": "execute_result"
    }
   ],
   "source": [
    "test.Q.to_numpy()[~np.isnan(test.Q.to_numpy())].mean()"
   ]
  },
  {
   "cell_type": "markdown",
   "metadata": {},
   "source": [
    "### slope_fdc"
   ]
  },
  {
   "cell_type": "code",
   "execution_count": 365,
   "metadata": {},
   "outputs": [
    {
     "data": {
      "text/plain": [
       "(0.0, 0.0, 10.0)"
      ]
     },
     "execution_count": 365,
     "metadata": {},
     "output_type": "execute_result"
    }
   ],
   "source": [
    "np.nanquantile(test.Q.to_numpy(), q = 0.33), np.nanquantile(test.Q.to_numpy(), q = 0.66), np.nanquantile(test.Q.to_numpy(), q = 0.99)"
   ]
  },
  {
   "cell_type": "code",
   "execution_count": 367,
   "metadata": {
    "tags": []
   },
   "outputs": [
    {
     "name": "stdout",
     "output_type": "stream",
     "text": [
      "33 перцентиль = 0.0, 66 перцентиль = 0.0\n",
      "-0.31927428987220235\n"
     ]
    }
   ],
   "source": [
    "try:\n",
    "    (math.log(np.nanquantile(test.Q.to_numpy(), q = 0.33)) - math.log(np.nanquantile(test.Q.to_numpy(), q = 0.66)))/(0.66 - 0.33)\n",
    "except ValueError:\n",
    "    print('33 перцентиль = {}, 66 перцентиль = {}'.format(np.nanquantile(test.Q.to_numpy(), q = 0.33), np.nanquantile(test.Q.to_numpy(), q = 0.66)))\n",
    "finally:\n",
    "    print(\n",
    "        (math.log(np.nanquantile(test.Q.to_numpy(), q = 0.33)+0.0009) - math.log(np.nanquantile(test.Q.to_numpy(), q = 0.66)+0.001))/(0.66 - 0.33))"
   ]
  },
  {
   "cell_type": "code",
   "execution_count": 369,
   "metadata": {
    "tags": []
   },
   "outputs": [
    {
     "data": {
      "image/png": "[encoded data removed]",
      "text/plain": [
       "<Figure size 432x288 with 1 Axes>"
      ]
     },
     "metadata": {
      "needs_background": "light"
     },
     "output_type": "display_data"
    }
   ],
   "source": [
    "from numpy import random\n",
    "import matplotlib.pyplot as plt\n",
    "import seaborn as sns\n",
    "\n",
    "sns.histplot(test.Q)\n",
    "\n",
    "plt.show()"
   ]
  },
  {
   "cell_type": "markdown",
   "metadata": {},
   "source": [
    "### baseflow_index"
   ]
  },
  {
   "cell_type": "code",
   "execution_count": 427,
   "metadata": {},
   "outputs": [],
   "source": [
    "def clump_array(a):\n",
    "\n",
    "    \"\"\"\n",
    "    Разбить период наблюдений на куски, в которых нет NaN\n",
    "    \"\"\"\n",
    "\n",
    "    return [a[s] for s in np.ma.clump_unmasked(np.ma.masked_invalid(a))]\n",
    "\n",
    "\"Создаём отдельные вектора в соответствии с разбиением на куски без NaN\"\n",
    "\n",
    "###################################################################\n",
    "def FirstPass(Q, alpha):\n",
    "\n",
    "    q_f_1 = [[[] for _ in range(len(i))] for i in Q]\n",
    "    q_b_1 = [[[] for _ in range(len(i))] for i in Q]\n",
    "\n",
    "    for i in range(len(Q)):           \n",
    "        \"\"\"\n",
    "        Задаём первые величины векторе \"быстрого\" стока\n",
    "\n",
    "        \"\"\"\n",
    "        q_f_1[i][0] = Q[i][0]\n",
    "\n",
    "        for j in range(len(Q[i])-1):\n",
    "            \"\"\"\n",
    "            Для каждого куска считаем быстрый сток\n",
    "\n",
    "            \"\"\"\n",
    "            q_f_1[i][j+1] = alpha * q_f_1[i][j] + 0.5 * (1 + alpha) * (Q[i][j+1] - Q[i][j])\n",
    "\n",
    "        for j in range(len(Q[i])):\n",
    "            if q_f_1[i][j] < 0:\n",
    "                q_b_1[i][j] = Q[i][j]\n",
    "            else:\n",
    "                q_b_1[i][j] = Q[i][j] - q_f_1[i][j]\n",
    "\n",
    "    Q_forward_1 = [q_f_1, q_b_1]\n",
    "\n",
    "    return Q_forward_1\n",
    "\n",
    "###################################################################\n",
    "\n",
    "def BackwardPass(Q_forward_1, alpha):\n",
    "\n",
    "    \"\"\"\n",
    "    Здесь Q - n-мерный лист в зависимости от числа разбиений\n",
    "    \"\"\"\n",
    "\n",
    "    Qq = Q_forward_1[0]\n",
    "    Qb = Q_forward_1[1]\n",
    "\n",
    "    q_f_2 = [[[] for _ in range(len(i))] for i in Qq]\n",
    "    q_b_2 = [[[] for _ in range(len(i))] for i in Qb]\n",
    "\n",
    "    for i in range(len(Qq)):\n",
    "        \"последняя величина предыдущего шага - первая в обратном\"\n",
    "        q_f_2[i][-1] = Qb[i][-1]\n",
    "\n",
    "        for j in range(len(Qq[i])-2, -1, -1):\n",
    "            q_f_2[i][j] = alpha * q_f_2[i][j+1] + 0.5 * (1 + alpha) * (Qb[i][j] - Qb[i][j+1])\n",
    "\n",
    "        for j in reversed(range(len(Qq[i]))):\n",
    "            if q_f_2[i][j] < 0:\n",
    "                q_b_2[i][j] = Qb[i][j]\n",
    "            else:\n",
    "                q_b_2[i][j] = Qb[i][j] - q_f_2[i][j]\n",
    "    Q_backward = [q_f_2, q_b_2]\n",
    "\n",
    "    return Q_backward\n",
    "\n",
    "###################################################################\n",
    "\n",
    "def ForwardPass(Q_backward, alpha):\n",
    "\n",
    "    Qq = Q_backward[0]\n",
    "    Qb = Q_backward[1]\n",
    "\n",
    "    q_f_3 = [[[] for _ in range(len(i))] for i in Qq]\n",
    "    q_b_3 = [[[] for _ in range(len(i))] for i in Qb]\n",
    "\n",
    "    for i in range(len(Qq)):\n",
    "\n",
    "        \"Теперь первая величина предыдущего шага - первая и здесь\"\n",
    "\n",
    "        q_f_3[i][0] = Qb[i][0]\n",
    "\n",
    "        for j in range(len(Qb[i])-1):\n",
    "\n",
    "            q_f_3[i][j+1] = alpha * q_f_3[i][j] + 0.5 * (1 + alpha) * (Qb[i][j+1] - Qb[i][j])\n",
    "\n",
    "        for j in range(len(Qb[i])):\n",
    "            if q_f_3[i][j] < 0:\n",
    "                q_b_3[i][j] = Qb[i][j]\n",
    "            else:\n",
    "                q_b_3[i][j] = Qb[i][j] - q_f_3[i][j]\n",
    "\n",
    "    Q_forward = [q_f_3, q_b_3]\n",
    "\n",
    "    return Q_forward\n",
    "\n",
    "###################################################################\n",
    "\n",
    "def BFI_calc(Q, alpha, passes, reflect):\n",
    "    \"\"\"\n",
    "    we reflect the first reflect values and the last reflect values.  \n",
    "    this is to get rid of 'warm up' problems © Anthony Ladson\n",
    "    \"\"\" \n",
    "    \n",
    "    Qin = Q\n",
    "    \n",
    "    \"отложим отраженные величины с конца и начала нашего ряда\"\n",
    "    Q_reflect = [[[] for _ in range(len(i) + 2 * reflect)] for i in Q]\n",
    "\n",
    "    for i in range(len(Q_reflect)):\n",
    "\n",
    "        Q_reflect[i][:reflect] = Q[i][(reflect):0:-1] #добавляем \n",
    "\n",
    "        Q_reflect[i][(reflect):(reflect + len(Q[i]))] = Q[i]\n",
    "\n",
    "        Q_reflect[i][(reflect + len(Q[i])):(len(Q[i]) + 2 + 2 * reflect)] = Q[i][len(my_list)-2:len(my_list) - reflect - 2:-1]\n",
    "    \n",
    "    Q1 = FirstPass(Q_reflect, alpha)\n",
    "\n",
    "    \"how many backwards/forward passes to we need © Anthony Ladson\"\n",
    "\n",
    "    n_pass = round(0.5 * (passes -1))\n",
    "\n",
    "    BackwardPass(Q1, alpha)\n",
    "\n",
    "    for i in range(n_pass):\n",
    "        Q1 = ForwardPass(BackwardPass(Q1, alpha), alpha)\n",
    "\n",
    "    ################# end of passes  ##############################\n",
    "    \n",
    "    Qbase = [i[reflect:(len(i)-reflect)] for i in Q1[1]]\n",
    "    Qbase = [[0 if j < 0 else j for j in i] for i in Qbase]\n",
    "    \n",
    "    # расчёт взвешенного среднего для разбитого на куски ряда расходов\n",
    "    \n",
    "    len_Qbase = len([item for sublist in Qbase for item in sublist]) # длина всех расходов, без учёта пропусков\n",
    "    weights_for_average = [len(i)/len_Qbase for i in Qbase] # вес для среднего по каждому элементу\n",
    "    weighted_bfi = sum([weights_for_average[i] * np.mean(Qbase[i]/np.mean(Qin[i])) for i in range(len(Qbase))]) #взвешенное среднее по выпуклой комбинации\n",
    "\n",
    "    return weighted_bfi, Qbase"
   ]
  },
  {
   "cell_type": "markdown",
   "metadata": {},
   "source": [
    "### проверка на базовом датасете Anthony Ladson"
   ]
  },
  {
   "cell_type": "code",
   "execution_count": 428,
   "metadata": {},
   "outputs": [],
   "source": [
    "import requests\n",
    "import csv\n",
    "url = \"https://raw.github.com/TonyLadson/data/master/data/BassRiver@Loch.csv\"\n",
    "\n",
    "with requests.Session() as s:\n",
    "    download = s.get(url)\n",
    "\n",
    "    decoded_content = download.content.decode('utf-8')\n",
    "\n",
    "    cr = csv.reader(decoded_content.splitlines(), delimiter=',')\n",
    "    my_list = list(cr)\n",
    "\n",
    "my_list = [int(i[0]) for i in my_list]"
   ]
  },
  {
   "cell_type": "code",
   "execution_count": 432,
   "metadata": {},
   "outputs": [],
   "source": [
    "\n",
    "Q = clump_array(test.Q.to_numpy())\n",
    "\n",
    "passes = 3\n",
    "reflect = 30\n",
    "alpha = 0.98\n",
    "\n",
    "bfi, Qbase = BFI_calc(Q, 0.98, 3, 30)"
   ]
  },
  {
   "cell_type": "code",
   "execution_count": 436,
   "metadata": {},
   "outputs": [
    {
     "data": {
      "text/plain": [
       "0.01512110412867201"
      ]
     },
     "execution_count": 436,
     "metadata": {},
     "output_type": "execute_result"
    }
   ],
   "source": [
    "bfi"
   ]
  },
  {
   "cell_type": "code",
   "execution_count": 437,
   "metadata": {},
   "outputs": [],
   "source": [
    "\"\"\"\n",
    "Восстановления ряда baseflow с учётом ранее \"выбитых\" пропусков\n",
    "\"\"\"\n",
    "from itertools import groupby\n",
    "Qbase_full = [list(group) for key, group in groupby(test.Q.to_numpy(), key=np.isnan)] # разбитие на группы по признаку. Получается n листов. NaN и !NaN разбиты по листам\n",
    "mask_to_refill = [~np.isnan(i).any() for i in Qbase_full] # индексируем их как одинокие булевые величины\n",
    "\n",
    "position_index = -1\n",
    "for j, mask in enumerate(mask_to_refill):\n",
    "    \"\"\"\n",
    "    Так как первичный разрезанный лист из функции clumped_array имеет в себе количество листов, такое же как и True, то восстанавливаем в соответствии\n",
    "    \n",
    "    Аргумент position_index подбирается в соответствии с присутсвием с True и адресуется к нужному куску в Qbase\n",
    "    \n",
    "    Всё перезаписывается в лист, где в перезаписываемых значениях эквивалентные по длине значения стока\n",
    "    \"\"\"\n",
    "    if mask:\n",
    "        position_index += 1\n",
    "        Qbase_full[j] = Qbase[position_index]\n",
    "    else:\n",
    "        position_index = position_index\n",
    "        Qbase_full[j] = Qbase_full[j]\n",
    "            \n",
    "Qbase_full = [item for sublist in Qbase_full for item in sublist] # лист листов в лист с учётом NaN\n",
    "\n",
    "test.Qbase = Qbase_full # Добавляем его в исходный датафрейм"
   ]
  },
  {
   "cell_type": "code",
   "execution_count": 438,
   "metadata": {},
   "outputs": [
    {
     "data": {
      "image/png": "[encoded data removed]",
      "text/plain": [
       "<Figure size 432x288 with 1 Axes>"
      ]
     },
     "metadata": {
      "needs_background": "light"
     },
     "output_type": "display_data"
    },
    {
     "data": {
      "image/png": "[encoded data removed]",
      "text/plain": [
       "<Figure size 432x288 with 1 Axes>"
      ]
     },
     "metadata": {
      "needs_background": "light"
     },
     "output_type": "display_data"
    },
    {
     "data": {
      "image/png": "[encoded data removed]",
      "text/plain": [
       "<Figure size 432x288 with 1 Axes>"
      ]
     },
     "metadata": {
      "needs_background": "light"
     },
     "output_type": "display_data"
    },
    {
     "data": {
      "image/png": "[encoded data removed]",
      "text/plain": [
       "<Figure size 432x288 with 1 Axes>"
      ]
     },
     "metadata": {
      "needs_background": "light"
     },
     "output_type": "display_data"
    },
    {
     "data": {
      "image/png": "[encoded data removed]",
      "text/plain": [
       "<Figure size 432x288 with 1 Axes>"
      ]
     },
     "metadata": {
      "needs_background": "light"
     },
     "output_type": "display_data"
    },
    {
     "data": {
      "image/png": "[encoded data removed]",
      "text/plain": [
       "<Figure size 432x288 with 1 Axes>"
      ]
     },
     "metadata": {
      "needs_background": "light"
     },
     "output_type": "display_data"
    },
    {
     "data": {
      "image/png": "[encoded data removed]",
      "text/plain": [
       "<Figure size 432x288 with 1 Axes>"
      ]
     },
     "metadata": {
      "needs_background": "light"
     },
     "output_type": "display_data"
    },
    {
     "data": {
      "image/png": "[encoded data removed]",
      "text/plain": [
       "<Figure size 432x288 with 1 Axes>"
      ]
     },
     "metadata": {
      "needs_background": "light"
     },
     "output_type": "display_data"
    },
    {
     "data": {
      "image/png": "[encoded data removed]",
      "text/plain": [
       "<Figure size 432x288 with 1 Axes>"
      ]
     },
     "metadata": {
      "needs_background": "light"
     },
     "output_type": "display_data"
    },
    {
     "data": {
      "image/png": "[encoded data removed]",
      "text/plain": [
       "<Figure size 432x288 with 1 Axes>"
      ]
     },
     "metadata": {
      "needs_background": "light"
     },
     "output_type": "display_data"
    }
   ],
   "source": [
    "split_by_year = [test[test['Date'].dt.year == y].reset_index(drop = True) for y in test['Date'].dt.year.unique()]\n",
    "for i in split_by_year:\n",
    "    i = i.set_index('Date')\n",
    "    ax = i.plot()\n"
   ]
  },
  {
   "cell_type": "markdown",
   "metadata": {},
   "source": [
    "### hfd_mean"
   ]
  },
  {
   "cell_type": "code",
   "execution_count": 12,
   "metadata": {},
   "outputs": [],
   "source": [
    "split_by_year = [test[test['Date'].dt.year == y].reset_index(drop = True) for y in test['Date'].dt.year.unique()]\n",
    "\n",
    "hfd = list()"
   ]
  },
  {
   "cell_type": "code",
   "execution_count": 13,
   "metadata": {},
   "outputs": [],
   "source": [
    "for i in range(len(split_by_year)):\n",
    "    half_discharge = 0\n",
    "    for j, discharge in enumerate(split_by_year[i].Value):    \n",
    "        half_discharge += discharge\n",
    "        if half_discharge > split_by_year[i].Value.sum()/2:\n",
    "            break\n",
    "    hfd.append(split_by_year[i].Date[j])\n",
    "    "
   ]
  },
  {
   "cell_type": "code",
   "execution_count": 14,
   "metadata": {},
   "outputs": [
    {
     "data": {
      "text/plain": [
       "[Timestamp('1978-03-15 00:00:00'),\n",
       " Timestamp('1979-03-27 00:00:00'),\n",
       " Timestamp('1980-04-08 00:00:00'),\n",
       " Timestamp('1981-03-25 00:00:00'),\n",
       " Timestamp('1982-04-05 00:00:00'),\n",
       " Timestamp('1983-03-23 00:00:00'),\n",
       " Timestamp('1984-12-31 00:00:00'),\n",
       " Timestamp('1985-04-06 00:00:00'),\n",
       " Timestamp('1986-03-28 00:00:00'),\n",
       " Timestamp('1987-04-22 00:00:00')]"
      ]
     },
     "execution_count": 14,
     "metadata": {},
     "output_type": "execute_result"
    }
   ],
   "source": [
    "hfd"
   ]
  },
  {
   "cell_type": "code",
   "execution_count": 16,
   "metadata": {},
   "outputs": [
    {
     "data": {
      "text/html": [
       "<div>\n",
       "<style scoped>\n",
       "    .dataframe tbody tr th:only-of-type {\n",
       "        vertical-align: middle;\n",
       "    }\n",
       "\n",
       "    .dataframe tbody tr th {\n",
       "        vertical-align: top;\n",
       "    }\n",
       "\n",
       "    .dataframe thead th {\n",
       "        text-align: right;\n",
       "    }\n",
       "</style>\n",
       "<table border=\"1\" class=\"dataframe\">\n",
       "  <thead>\n",
       "    <tr style=\"text-align: right;\">\n",
       "      <th></th>\n",
       "      <th>Date</th>\n",
       "      <th>Value</th>\n",
       "    </tr>\n",
       "  </thead>\n",
       "  <tbody>\n",
       "    <tr>\n",
       "      <th>0</th>\n",
       "      <td>1978-01-01</td>\n",
       "      <td>0.0</td>\n",
       "    </tr>\n",
       "    <tr>\n",
       "      <th>1</th>\n",
       "      <td>1978-01-02</td>\n",
       "      <td>0.0</td>\n",
       "    </tr>\n",
       "    <tr>\n",
       "      <th>2</th>\n",
       "      <td>1978-01-03</td>\n",
       "      <td>0.0</td>\n",
       "    </tr>\n",
       "    <tr>\n",
       "      <th>3</th>\n",
       "      <td>1978-01-04</td>\n",
       "      <td>0.0</td>\n",
       "    </tr>\n",
       "    <tr>\n",
       "      <th>4</th>\n",
       "      <td>1978-01-05</td>\n",
       "      <td>0.0</td>\n",
       "    </tr>\n",
       "    <tr>\n",
       "      <th>...</th>\n",
       "      <td>...</td>\n",
       "      <td>...</td>\n",
       "    </tr>\n",
       "    <tr>\n",
       "      <th>360</th>\n",
       "      <td>1978-12-27</td>\n",
       "      <td>0.0</td>\n",
       "    </tr>\n",
       "    <tr>\n",
       "      <th>361</th>\n",
       "      <td>1978-12-28</td>\n",
       "      <td>0.0</td>\n",
       "    </tr>\n",
       "    <tr>\n",
       "      <th>362</th>\n",
       "      <td>1978-12-29</td>\n",
       "      <td>0.0</td>\n",
       "    </tr>\n",
       "    <tr>\n",
       "      <th>363</th>\n",
       "      <td>1978-12-30</td>\n",
       "      <td>0.0</td>\n",
       "    </tr>\n",
       "    <tr>\n",
       "      <th>364</th>\n",
       "      <td>1978-12-31</td>\n",
       "      <td>0.0</td>\n",
       "    </tr>\n",
       "  </tbody>\n",
       "</table>\n",
       "<p>365 rows × 2 columns</p>\n",
       "</div>"
      ],
      "text/plain": [
       "          Date  Value\n",
       "0   1978-01-01    0.0\n",
       "1   1978-01-02    0.0\n",
       "2   1978-01-03    0.0\n",
       "3   1978-01-04    0.0\n",
       "4   1978-01-05    0.0\n",
       "..         ...    ...\n",
       "360 1978-12-27    0.0\n",
       "361 1978-12-28    0.0\n",
       "362 1978-12-29    0.0\n",
       "363 1978-12-30    0.0\n",
       "364 1978-12-31    0.0\n",
       "\n",
       "[365 rows x 2 columns]"
      ]
     },
     "execution_count": 16,
     "metadata": {},
     "output_type": "execute_result"
    }
   ],
   "source": [
    "split_by_year"
   ]
  },
  {
   "cell_type": "code",
   "execution_count": null,
   "metadata": {},
   "outputs": [],
   "source": []
  }
 ],
 "metadata": {
  "kernelspec": {
   "display_name": "Python 3.8.5 64-bit ('geo': conda)",
   "language": "python",
   "name": "python38564bitgeoconda80ab28450b61475ea094e6781ce7b782"
  },
  "language_info": {
   "codemirror_mode": {
    "name": "ipython",
    "version": 3
   },
   "file_extension": ".py",
   "mimetype": "text/x-python",
   "name": "python",
   "nbconvert_exporter": "python",
   "pygments_lexer": "ipython3",
   "version": "3.8.5"
  }
 },
 "nbformat": 4,
 "nbformat_minor": 4
}
