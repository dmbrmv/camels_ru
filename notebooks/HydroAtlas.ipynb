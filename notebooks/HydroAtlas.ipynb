{
 "cells": [
  {
   "cell_type": "code",
   "execution_count": 1,
   "id": "c2ca51a1",
   "metadata": {},
   "outputs": [],
   "source": [
    "import geopandas as gpd\n",
    "\n",
    "ws = gpd.read_file(\"../data/Geometry/WatershedGeomCAMELS.gpkg\")\n",
    "ws.set_index(\"gage_id\", inplace=True)\n",
    "\n",
    "gauge = gpd.read_file(\"../data/Geometry/GaugeGeomCAMELS.gpkg\")\n",
    "gauge.set_index(\"gage_id\", inplace=True)"
   ]
  },
  {
   "cell_type": "markdown",
   "id": "b5b5855f",
   "metadata": {},
   "source": [
    "### Perform clustering based on static attributes"
   ]
  },
  {
   "cell_type": "code",
   "execution_count": null,
   "id": "4342db60",
   "metadata": {},
   "outputs": [],
   "source": [
    "static_data = "
   ]
  },
  {
   "cell_type": "markdown",
   "id": "96fc4854",
   "metadata": {},
   "source": [
    "### Perform clustering based on hydrological attributes"
   ]
  },
  {
   "cell_type": "code",
   "execution_count": null,
   "id": "42f884ea",
   "metadata": {},
   "outputs": [],
   "source": []
  }
 ],
 "metadata": {
  "kernelspec": {
   "display_name": "camels_ru",
   "language": "python",
   "name": "python3"
  },
  "language_info": {
   "codemirror_mode": {
    "name": "ipython",
    "version": 3
   },
   "file_extension": ".py",
   "mimetype": "text/x-python",
   "name": "python",
   "nbconvert_exporter": "python",
   "pygments_lexer": "ipython3",
   "version": "3.12.11"
  }
 },
 "nbformat": 4,
 "nbformat_minor": 5
}
