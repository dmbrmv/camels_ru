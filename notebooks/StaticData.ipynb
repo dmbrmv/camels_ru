{
 "cells": [
  {
   "cell_type": "code",
   "execution_count": null,
   "id": "9a17bc37",
   "metadata": {},
   "outputs": [],
   "source": []
  },
  {
   "cell_type": "markdown",
   "id": "c4b51d21",
   "metadata": {},
   "source": [
    "### Calculate % of coverage with certain land class"
   ]
  },
  {
   "cell_type": "code",
   "execution_count": null,
   "id": "dd54930e",
   "metadata": {},
   "outputs": [],
   "source": []
  },
  {
   "cell_type": "markdown",
   "id": "ff6768b4",
   "metadata": {},
   "source": [
    "### Calculate % of coverage with certain soil type"
   ]
  },
  {
   "cell_type": "code",
   "execution_count": null,
   "id": "8f6a4e30",
   "metadata": {},
   "outputs": [],
   "source": []
  }
 ],
 "metadata": {
  "kernelspec": {
   "display_name": "camels_ru",
   "language": "python",
   "name": "python3"
  },
  "language_info": {
   "codemirror_mode": {
    "name": "ipython",
    "version": 3
   },
   "file_extension": ".py",
   "mimetype": "text/x-python",
   "name": "python",
   "nbconvert_exporter": "python",
   "pygments_lexer": "ipython3",
   "version": "3.12.11"
  }
 },
 "nbformat": 4,
 "nbformat_minor": 5
}
